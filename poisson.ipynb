{
  "nbformat": 4,
  "nbformat_minor": 0,
  "metadata": {
    "colab": {
      "name": "poisson.ipynb",
      "provenance": [],
      "collapsed_sections": []
    },
    "kernelspec": {
      "name": "python3",
      "display_name": "Python 3"
    },
    "language_info": {
      "name": "python"
    },
    "widgets": {
      "application/vnd.jupyter.widget-state+json": {
        "37d9d86a26d04419b212fcf7a6a3e782": {
          "model_module": "@jupyter-widgets/controls",
          "model_name": "HBoxModel",
          "model_module_version": "1.5.0",
          "state": {
            "_dom_classes": [],
            "_model_module": "@jupyter-widgets/controls",
            "_model_module_version": "1.5.0",
            "_model_name": "HBoxModel",
            "_view_count": null,
            "_view_module": "@jupyter-widgets/controls",
            "_view_module_version": "1.5.0",
            "_view_name": "HBoxView",
            "box_style": "",
            "children": [
              "IPY_MODEL_c4ed1fb6cf74444c98c180be8af61878",
              "IPY_MODEL_0c2e4a30c2fe48e69bbd0344ff01bd3e",
              "IPY_MODEL_aa02579afbe84e3cacadab021cedde45"
            ],
            "layout": "IPY_MODEL_31536d69d6b54ef083e15bcde6a59a37"
          }
        },
        "c4ed1fb6cf74444c98c180be8af61878": {
          "model_module": "@jupyter-widgets/controls",
          "model_name": "HTMLModel",
          "model_module_version": "1.5.0",
          "state": {
            "_dom_classes": [],
            "_model_module": "@jupyter-widgets/controls",
            "_model_module_version": "1.5.0",
            "_model_name": "HTMLModel",
            "_view_count": null,
            "_view_module": "@jupyter-widgets/controls",
            "_view_module_version": "1.5.0",
            "_view_name": "HTMLView",
            "description": "",
            "description_tooltip": null,
            "layout": "IPY_MODEL_232259f7731f41c8ad14302d7833e307",
            "placeholder": "​",
            "style": "IPY_MODEL_8ccb4791ad7448469465ed12e5186111",
            "value": " 16%"
          }
        },
        "0c2e4a30c2fe48e69bbd0344ff01bd3e": {
          "model_module": "@jupyter-widgets/controls",
          "model_name": "FloatProgressModel",
          "model_module_version": "1.5.0",
          "state": {
            "_dom_classes": [],
            "_model_module": "@jupyter-widgets/controls",
            "_model_module_version": "1.5.0",
            "_model_name": "FloatProgressModel",
            "_view_count": null,
            "_view_module": "@jupyter-widgets/controls",
            "_view_module_version": "1.5.0",
            "_view_name": "ProgressView",
            "bar_style": "",
            "description": "",
            "description_tooltip": null,
            "layout": "IPY_MODEL_74d9a9d4df90471fa679c3824f94dd29",
            "max": 10000,
            "min": 0,
            "orientation": "horizontal",
            "style": "IPY_MODEL_7294e24f8aea443f857abc82354ab49e",
            "value": 1636
          }
        },
        "aa02579afbe84e3cacadab021cedde45": {
          "model_module": "@jupyter-widgets/controls",
          "model_name": "HTMLModel",
          "model_module_version": "1.5.0",
          "state": {
            "_dom_classes": [],
            "_model_module": "@jupyter-widgets/controls",
            "_model_module_version": "1.5.0",
            "_model_name": "HTMLModel",
            "_view_count": null,
            "_view_module": "@jupyter-widgets/controls",
            "_view_module_version": "1.5.0",
            "_view_name": "HTMLView",
            "description": "",
            "description_tooltip": null,
            "layout": "IPY_MODEL_3df77b39ead94a6285ce8a3003104d62",
            "placeholder": "​",
            "style": "IPY_MODEL_1c8321223f014d7ab155b8b2bfb2881a",
            "value": " 1635/10000 [17:41&lt;1:30:40,  1.54it/s]"
          }
        },
        "31536d69d6b54ef083e15bcde6a59a37": {
          "model_module": "@jupyter-widgets/base",
          "model_name": "LayoutModel",
          "model_module_version": "1.2.0",
          "state": {
            "_model_module": "@jupyter-widgets/base",
            "_model_module_version": "1.2.0",
            "_model_name": "LayoutModel",
            "_view_count": null,
            "_view_module": "@jupyter-widgets/base",
            "_view_module_version": "1.2.0",
            "_view_name": "LayoutView",
            "align_content": null,
            "align_items": null,
            "align_self": null,
            "border": null,
            "bottom": null,
            "display": null,
            "flex": null,
            "flex_flow": null,
            "grid_area": null,
            "grid_auto_columns": null,
            "grid_auto_flow": null,
            "grid_auto_rows": null,
            "grid_column": null,
            "grid_gap": null,
            "grid_row": null,
            "grid_template_areas": null,
            "grid_template_columns": null,
            "grid_template_rows": null,
            "height": null,
            "justify_content": null,
            "justify_items": null,
            "left": null,
            "margin": null,
            "max_height": null,
            "max_width": null,
            "min_height": null,
            "min_width": null,
            "object_fit": null,
            "object_position": null,
            "order": null,
            "overflow": null,
            "overflow_x": null,
            "overflow_y": null,
            "padding": null,
            "right": null,
            "top": null,
            "visibility": null,
            "width": null
          }
        },
        "232259f7731f41c8ad14302d7833e307": {
          "model_module": "@jupyter-widgets/base",
          "model_name": "LayoutModel",
          "model_module_version": "1.2.0",
          "state": {
            "_model_module": "@jupyter-widgets/base",
            "_model_module_version": "1.2.0",
            "_model_name": "LayoutModel",
            "_view_count": null,
            "_view_module": "@jupyter-widgets/base",
            "_view_module_version": "1.2.0",
            "_view_name": "LayoutView",
            "align_content": null,
            "align_items": null,
            "align_self": null,
            "border": null,
            "bottom": null,
            "display": null,
            "flex": null,
            "flex_flow": null,
            "grid_area": null,
            "grid_auto_columns": null,
            "grid_auto_flow": null,
            "grid_auto_rows": null,
            "grid_column": null,
            "grid_gap": null,
            "grid_row": null,
            "grid_template_areas": null,
            "grid_template_columns": null,
            "grid_template_rows": null,
            "height": null,
            "justify_content": null,
            "justify_items": null,
            "left": null,
            "margin": null,
            "max_height": null,
            "max_width": null,
            "min_height": null,
            "min_width": null,
            "object_fit": null,
            "object_position": null,
            "order": null,
            "overflow": null,
            "overflow_x": null,
            "overflow_y": null,
            "padding": null,
            "right": null,
            "top": null,
            "visibility": null,
            "width": null
          }
        },
        "8ccb4791ad7448469465ed12e5186111": {
          "model_module": "@jupyter-widgets/controls",
          "model_name": "DescriptionStyleModel",
          "model_module_version": "1.5.0",
          "state": {
            "_model_module": "@jupyter-widgets/controls",
            "_model_module_version": "1.5.0",
            "_model_name": "DescriptionStyleModel",
            "_view_count": null,
            "_view_module": "@jupyter-widgets/base",
            "_view_module_version": "1.2.0",
            "_view_name": "StyleView",
            "description_width": ""
          }
        },
        "74d9a9d4df90471fa679c3824f94dd29": {
          "model_module": "@jupyter-widgets/base",
          "model_name": "LayoutModel",
          "model_module_version": "1.2.0",
          "state": {
            "_model_module": "@jupyter-widgets/base",
            "_model_module_version": "1.2.0",
            "_model_name": "LayoutModel",
            "_view_count": null,
            "_view_module": "@jupyter-widgets/base",
            "_view_module_version": "1.2.0",
            "_view_name": "LayoutView",
            "align_content": null,
            "align_items": null,
            "align_self": null,
            "border": null,
            "bottom": null,
            "display": null,
            "flex": null,
            "flex_flow": null,
            "grid_area": null,
            "grid_auto_columns": null,
            "grid_auto_flow": null,
            "grid_auto_rows": null,
            "grid_column": null,
            "grid_gap": null,
            "grid_row": null,
            "grid_template_areas": null,
            "grid_template_columns": null,
            "grid_template_rows": null,
            "height": null,
            "justify_content": null,
            "justify_items": null,
            "left": null,
            "margin": null,
            "max_height": null,
            "max_width": null,
            "min_height": null,
            "min_width": null,
            "object_fit": null,
            "object_position": null,
            "order": null,
            "overflow": null,
            "overflow_x": null,
            "overflow_y": null,
            "padding": null,
            "right": null,
            "top": null,
            "visibility": null,
            "width": null
          }
        },
        "7294e24f8aea443f857abc82354ab49e": {
          "model_module": "@jupyter-widgets/controls",
          "model_name": "ProgressStyleModel",
          "model_module_version": "1.5.0",
          "state": {
            "_model_module": "@jupyter-widgets/controls",
            "_model_module_version": "1.5.0",
            "_model_name": "ProgressStyleModel",
            "_view_count": null,
            "_view_module": "@jupyter-widgets/base",
            "_view_module_version": "1.2.0",
            "_view_name": "StyleView",
            "bar_color": null,
            "description_width": ""
          }
        },
        "3df77b39ead94a6285ce8a3003104d62": {
          "model_module": "@jupyter-widgets/base",
          "model_name": "LayoutModel",
          "model_module_version": "1.2.0",
          "state": {
            "_model_module": "@jupyter-widgets/base",
            "_model_module_version": "1.2.0",
            "_model_name": "LayoutModel",
            "_view_count": null,
            "_view_module": "@jupyter-widgets/base",
            "_view_module_version": "1.2.0",
            "_view_name": "LayoutView",
            "align_content": null,
            "align_items": null,
            "align_self": null,
            "border": null,
            "bottom": null,
            "display": null,
            "flex": null,
            "flex_flow": null,
            "grid_area": null,
            "grid_auto_columns": null,
            "grid_auto_flow": null,
            "grid_auto_rows": null,
            "grid_column": null,
            "grid_gap": null,
            "grid_row": null,
            "grid_template_areas": null,
            "grid_template_columns": null,
            "grid_template_rows": null,
            "height": null,
            "justify_content": null,
            "justify_items": null,
            "left": null,
            "margin": null,
            "max_height": null,
            "max_width": null,
            "min_height": null,
            "min_width": null,
            "object_fit": null,
            "object_position": null,
            "order": null,
            "overflow": null,
            "overflow_x": null,
            "overflow_y": null,
            "padding": null,
            "right": null,
            "top": null,
            "visibility": null,
            "width": null
          }
        },
        "1c8321223f014d7ab155b8b2bfb2881a": {
          "model_module": "@jupyter-widgets/controls",
          "model_name": "DescriptionStyleModel",
          "model_module_version": "1.5.0",
          "state": {
            "_model_module": "@jupyter-widgets/controls",
            "_model_module_version": "1.5.0",
            "_model_name": "DescriptionStyleModel",
            "_view_count": null,
            "_view_module": "@jupyter-widgets/base",
            "_view_module_version": "1.2.0",
            "_view_name": "StyleView",
            "description_width": ""
          }
        }
      }
    }
  },
  "cells": [
    {
      "cell_type": "markdown",
      "source": [
        "пуассоновский бутстрап"
      ],
      "metadata": {
        "id": "v5JiBVHuzdbI"
      }
    },
    {
      "cell_type": "code",
      "execution_count": 4,
      "metadata": {
        "id": "TQgnQh64vh3n"
      },
      "outputs": [],
      "source": [
        "from typing import Tuple, List\n",
        "import numpy as np\n",
        "import multiprocessing as mp\n",
        "import os \n",
        "from tqdm import tqdm_notebook"
      ]
    },
    {
      "cell_type": "code",
      "source": [
        "N_bootstraps: int = 10000\n",
        "mp.set_start_method('fork', force=True)\n",
        "def poisson_bootstrap_tp_fp_fn_tn(\n",
        "    bundle: Tuple[float, List[Tuple[float, float, float, int]]],\n",
        "                                 ) ->List[np.ndarray]:\n",
        "    threshold, data = bundle\n",
        "    TP = np.zeros((N_bootstraps))\n",
        "    FP = np.zeros((N_bootstraps))\n",
        "    FN = np.zeros((N_bootstraps))\n",
        "    TN = np.zeros((N_bootstraps))\n",
        "    for current_label, current_predict, weight, index in data:\n",
        "        np.random.seed(index)\n",
        "        current_predict += np.random.normal(0,0.0125,1)\n",
        "        current_predict = int(np.clip(current_predict,0,1) >= threshold)\n",
        "        p_sample = np.random.poisson(1, N_bootstraps) * weight\n",
        "        \n",
        "        if current_label == 1 and current_predict == 1:\n",
        "            TP += p_sample\n",
        "        if current_label == 1 and current_predict == 0:\n",
        "            FN += p_sample\n",
        "        if current_label == 0 and current_predict == 1:\n",
        "            FP += p_sample\n",
        "        if current_label == 0 and current_predict == 0:\n",
        "            TN += p_sample\n",
        "            \n",
        "    return [TP, FP, FN, TN]\n",
        "            "
      ],
      "metadata": {
        "id": "N3gHlzJ2vxfs"
      },
      "execution_count": 5,
      "outputs": []
    },
    {
      "cell_type": "code",
      "source": [
        "N = 10**7\n",
        "labels = np.random.randint(0,2,N)\n",
        "predicts = np.clip(np.random.normal(0.5,1,N),0,1)\n",
        "weights = np.array([1 for _ in range(N)])\n",
        "\n",
        "print(labels[:10])\n",
        "print(predicts[:10])\n",
        "print(weights[:10])"
      ],
      "metadata": {
        "colab": {
          "base_uri": "https://localhost:8080/"
        },
        "id": "wwb0bh3ox_Br",
        "outputId": "d8de4fcb-346d-4c5e-b0ed-8a48832b187f"
      },
      "execution_count": 6,
      "outputs": [
        {
          "output_type": "stream",
          "name": "stdout",
          "text": [
            "[0 0 0 0 0 0 0 0 0 0]\n",
            "[0.81250824 0.32114791 0.78589486 1.         1.         0.\n",
            " 1.         0.         1.         1.        ]\n",
            "[1 1 1 1 1 1 1 1 1 1]\n"
          ]
        }
      ]
    },
    {
      "cell_type": "code",
      "source": [
        "chunk_size = 1000\n",
        "threshold = 0.81\n",
        "generator = (\n",
        "    (\n",
        "        threshold,\n",
        "        [\n",
        "            (labels[x + y],\n",
        "             predicts[x + y],\n",
        "             weights[x + y],\n",
        "             x + y,\n",
        "            )\n",
        "    \n",
        "        for x in range(chunk_size)\n",
        "        if x+y < N\n",
        "        ],\n",
        "        \n",
        "    )\n",
        "        for y in range(0,N,chunk_size)\n",
        "\n",
        ")"
      ],
      "metadata": {
        "id": "Bo8FnqTtyDP5"
      },
      "execution_count": 7,
      "outputs": []
    },
    {
      "cell_type": "code",
      "source": [
        "cpu_to_use = np.max([os.cpu_count() - 3,1])\n",
        "print(cpu_to_use)\n",
        "\n",
        "with mp.Pool(processes=cpu_to_use) as pool:\n",
        "    stat_list = list(tqdm_notebook(pool.imap(poisson_bootstrap_tp_fp_fn_tn,generator),\n",
        "                    total = N//chunk_size))\n",
        "    \n",
        "TP, FP, FN, TN = np.sum(stat_list, 0)\n",
        "print(TP,FP,FN,TN)"
      ],
      "metadata": {
        "colab": {
          "base_uri": "https://localhost:8080/",
          "height": 120,
          "referenced_widgets": [
            "37d9d86a26d04419b212fcf7a6a3e782",
            "c4ed1fb6cf74444c98c180be8af61878",
            "0c2e4a30c2fe48e69bbd0344ff01bd3e",
            "aa02579afbe84e3cacadab021cedde45",
            "31536d69d6b54ef083e15bcde6a59a37",
            "232259f7731f41c8ad14302d7833e307",
            "8ccb4791ad7448469465ed12e5186111",
            "74d9a9d4df90471fa679c3824f94dd29",
            "7294e24f8aea443f857abc82354ab49e",
            "3df77b39ead94a6285ce8a3003104d62",
            "1c8321223f014d7ab155b8b2bfb2881a"
          ]
        },
        "id": "wyNQXvZTyEL_",
        "outputId": "27c41549-91ee-49de-df12-236ce796f616"
      },
      "execution_count": null,
      "outputs": [
        {
          "output_type": "stream",
          "name": "stdout",
          "text": [
            "1\n"
          ]
        },
        {
          "output_type": "stream",
          "name": "stderr",
          "text": [
            "/usr/local/lib/python3.7/dist-packages/ipykernel_launcher.py:6: TqdmDeprecationWarning: This function will be removed in tqdm==5.0.0\n",
            "Please use `tqdm.notebook.tqdm` instead of `tqdm.tqdm_notebook`\n",
            "  \n"
          ]
        },
        {
          "output_type": "display_data",
          "data": {
            "text/plain": [
              "  0%|          | 0/10000 [00:00<?, ?it/s]"
            ],
            "application/vnd.jupyter.widget-view+json": {
              "version_major": 2,
              "version_minor": 0,
              "model_id": "37d9d86a26d04419b212fcf7a6a3e782"
            }
          },
          "metadata": {}
        }
      ]
    },
    {
      "cell_type": "markdown",
      "source": [
        ""
      ],
      "metadata": {
        "id": "b1fkxXJEzZOd"
      }
    },
    {
      "cell_type": "markdown",
      "source": [
        ""
      ],
      "metadata": {
        "id": "ORvJ1kHdzbS1"
      }
    }
  ]
}